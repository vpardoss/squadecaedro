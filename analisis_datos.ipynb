{
 "cells": [
  {
   "cell_type": "code",
   "execution_count": 5,
   "id": "98a008da-b469-4bcc-a1bd-871b47a6a623",
   "metadata": {
    "execution": {
     "iopub.execute_input": "2025-10-16T13:10:38.467475Z",
     "iopub.status.busy": "2025-10-16T13:10:38.466661Z",
     "iopub.status.idle": "2025-10-16T13:10:38.474476Z",
     "shell.execute_reply": "2025-10-16T13:10:38.472702Z",
     "shell.execute_reply.started": "2025-10-16T13:10:38.467388Z"
    }
   },
   "outputs": [],
   "source": [
    "# Análisis de datos\n",
    "from os import listdir"
   ]
  },
  {
   "cell_type": "code",
   "execution_count": 7,
   "id": "22fec57a-baeb-41f4-9296-16faf7cd9e39",
   "metadata": {
    "execution": {
     "iopub.execute_input": "2025-10-16T13:10:52.137638Z",
     "iopub.status.busy": "2025-10-16T13:10:52.137144Z",
     "iopub.status.idle": "2025-10-16T13:10:52.145132Z",
     "shell.execute_reply": "2025-10-16T13:10:52.144294Z",
     "shell.execute_reply.started": "2025-10-16T13:10:52.137600Z"
    }
   },
   "outputs": [
    {
     "data": {
      "text/plain": [
       "['datos_12-10-2025-19-01.csv',\n",
       " 'datos_12-10-2025-20-00.csv',\n",
       " 'datos_12-10-2025-22-00.csv',\n",
       " 'datos_13-10-2025-06-00.csv',\n",
       " 'datos_13-10-2025-08-00.csv',\n",
       " 'datos_13-10-2025-10-00.csv',\n",
       " 'datos_13-10-2025-12-00.csv',\n",
       " 'datos_13-10-2025-14-00.csv',\n",
       " 'datos_13-10-2025-16-00.csv',\n",
       " 'datos_13-10-2025-18-00.csv',\n",
       " 'datos_13-10-2025-20-00.csv',\n",
       " 'datos_13-10-2025-22-00.csv',\n",
       " '.ipynb_checkpoints',\n",
       " 'datos_14-10-2025-06-00.csv',\n",
       " 'datos_14-10-2025-08-00.csv',\n",
       " 'datos_14-10-2025-10-00.csv',\n",
       " 'datos_14-10-2025-12-00.csv',\n",
       " 'datos_14-10-2025-14-00.csv',\n",
       " 'datos_14-10-2025-16-00.csv',\n",
       " 'datos_14-10-2025-18-00.csv',\n",
       " 'datos_14-10-2025-20-00.csv',\n",
       " 'datos_14-10-2025-22-00.csv',\n",
       " 'datos_15-10-2025-06-00.csv',\n",
       " 'datos_15-10-2025-08-00.csv',\n",
       " 'datos_15-10-2025-10-00.csv',\n",
       " 'datos_15-10-2025-12-00.csv',\n",
       " 'datos_15-10-2025-14-00.csv',\n",
       " 'datos_15-10-2025-16-00.csv',\n",
       " 'datos_15-10-2025-18-00.csv',\n",
       " 'datos_15-10-2025-20-00.csv',\n",
       " 'datos_15-10-2025-22-00.csv']"
      ]
     },
     "execution_count": 7,
     "metadata": {},
     "output_type": "execute_result"
    }
   ],
   "source": [
    "listdir(\"buses_outputs\")"
   ]
  },
  {
   "cell_type": "code",
   "execution_count": null,
   "id": "af13da6d-982b-45fd-8619-b513f51a9c73",
   "metadata": {},
   "outputs": [],
   "source": []
  }
 ],
 "metadata": {
  "kernelspec": {
   "display_name": "Python 3 (ipykernel)",
   "language": "python",
   "name": "python3"
  },
  "language_info": {
   "codemirror_mode": {
    "name": "ipython",
    "version": 3
   },
   "file_extension": ".py",
   "mimetype": "text/x-python",
   "name": "python",
   "nbconvert_exporter": "python",
   "pygments_lexer": "ipython3",
   "version": "3.13.5"
  }
 },
 "nbformat": 4,
 "nbformat_minor": 5
}
