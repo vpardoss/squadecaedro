{
 "cells": [
  {
   "cell_type": "code",
   "execution_count": 1,
   "id": "98a008da-b469-4bcc-a1bd-871b47a6a623",
   "metadata": {
    "execution": {
     "iopub.execute_input": "2025-10-16T12:56:15.027608Z",
     "iopub.status.busy": "2025-10-16T12:56:15.027171Z",
     "iopub.status.idle": "2025-10-16T12:56:15.032726Z",
     "shell.execute_reply": "2025-10-16T12:56:15.031416Z",
     "shell.execute_reply.started": "2025-10-16T12:56:15.027572Z"
    }
   },
   "outputs": [],
   "source": [
    "# Análisis de datos"
   ]
  },
  {
   "cell_type": "code",
   "execution_count": null,
   "id": "22fec57a-baeb-41f4-9296-16faf7cd9e39",
   "metadata": {},
   "outputs": [],
   "source": []
  }
 ],
 "metadata": {
  "kernelspec": {
   "display_name": "Python 3 (ipykernel)",
   "language": "python",
   "name": "python3"
  },
  "language_info": {
   "codemirror_mode": {
    "name": "ipython",
    "version": 3
   },
   "file_extension": ".py",
   "mimetype": "text/x-python",
   "name": "python",
   "nbconvert_exporter": "python",
   "pygments_lexer": "ipython3",
   "version": "3.13.5"
  }
 },
 "nbformat": 4,
 "nbformat_minor": 5
}
